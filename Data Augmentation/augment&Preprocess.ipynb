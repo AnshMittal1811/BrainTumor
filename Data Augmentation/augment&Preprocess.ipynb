{
 "cells": [
  {
   "cell_type": "markdown",
   "metadata": {},
   "source": [
    "This code file is responsible for Data Augmentation. We have more than 800 samples for Meningioma Brain Tumor, 700 samples for Pituitary Brain Tumor and 1400 for Glioma Brain Tumor. However, for Negative results, we have an image dataset of only about 80 samples. So, here we apply the Augmentor module to use those 80 samples for creating more samples for the Negative results.\n",
    "\n"
   ]
  },
  {
   "cell_type": "code",
   "execution_count": 16,
   "metadata": {},
   "outputs": [],
   "source": [
    "#Importing relevant modules\n",
    "import Augmentor\n",
    "import warnings\n",
    "warnings.filterwarnings('ignore')\n",
    "from PIL import Image"
   ]
  },
  {
   "cell_type": "code",
   "execution_count": 29,
   "metadata": {},
   "outputs": [],
   "source": [
    "from PIL import Image\n",
    "for i in range(111):\n",
    "    Image.open(\"../Data/Negative/\"+str(i)+\".jpg\").save(\"../Data/Negative/PNG\"+str(i)+\".png\")"
   ]
  },
  {
   "cell_type": "code",
   "execution_count": 33,
   "metadata": {},
   "outputs": [
    {
     "name": "stdout",
     "output_type": "stream",
     "text": [
      "Initialised with 111 image(s) found.\n",
      "Output directory set to ../Data/Negative/PNG\\output."
     ]
    }
   ],
   "source": [
    "#Setting up the Augmentor Pipeline\n",
    "\n",
    "p = Augmentor.Pipeline(\"../Data/Negative/PNG\")\n"
   ]
  },
  {
   "cell_type": "code",
   "execution_count": 35,
   "metadata": {},
   "outputs": [
    {
     "name": "stdout",
     "output_type": "stream",
     "text": [
      "Initialised with 111 image(s) found.\n",
      "Output directory set to ../Data/Negative/PNG\\output."
     ]
    },
    {
     "name": "stderr",
     "output_type": "stream",
     "text": [
      "Processing <PIL.Image.Image image mode=RGB size=242x208 at 0x235C79EF160>: 100%|█| 700/700 [00:10<00:00, 65.92 Samples/s] \n"
     ]
    }
   ],
   "source": [
    "\n",
    "\n",
    "# #Defining our method of Image Augmentation\n",
    "# p.rotate90(probability=0.5)\n",
    "# p.rotate270(probability=0.5)\n",
    "# p.flip_left_right(probability=0.8)\n",
    "# p.flip_top_bottom(probability=0.3)\n",
    "# p.crop_random(probability=0.1, percentage_area=0.1)\n",
    "# p.resize(probability=0.35, width=250, height=250)\n",
    "\n",
    "\n",
    "p = Augmentor.Pipeline(\"../Data/Negative/PNG\")\n",
    "# Point to a directory containing ground truth data.\n",
    "# Add operations to the pipeline as normal:\n",
    "p.rotate(probability=0.9, max_left_rotation=10, max_right_rotation=15)\n",
    "p.flip_left_right(probability=0.5)\n",
    "p.flip_top_bottom(probability=0.5)\n",
    "p.resize(probability=0.35, width=512, height=512)\n",
    "p.sample(700)\n"
   ]
  },
  {
   "cell_type": "code",
   "execution_count": 42,
   "metadata": {},
   "outputs": [],
   "source": [
    "# Pythono3 code to rename multiple  \n",
    "# files in a directory or folder \n",
    "  \n",
    "# importing os module \n",
    "import os \n",
    "  \n",
    "# Function to rename multiple files \n",
    "def main(): \n",
    "    i = 111\n",
    "      \n",
    "    for filename in os.listdir(\"../Data/Negative/PNG/output/\"): \n",
    "        dst =\"../Data/Negative/PNG/output/\" + str(i) + \".jpg\"\n",
    "        src =\"../Data/Negative/PNG/output/\"+ filename \n",
    "\n",
    "          \n",
    "        # rename() function will \n",
    "        # rename all the files \n",
    "        os.rename(src, dst) \n",
    "        i += 1\n",
    "  \n",
    "# Driver Code \n",
    "if __name__ == '__main__': \n",
    "      \n",
    "    # Calling main() function \n",
    "    main()"
   ]
  },
  {
   "cell_type": "code",
   "execution_count": null,
   "metadata": {},
   "outputs": [],
   "source": [
    "from PIL import Image\n",
    "Image.open(\"../Data/Negative/PNG/output/*.png\").save(\"../Data/Negative/*.jpg\")"
   ]
  }
 ],
 "metadata": {
  "kernelspec": {
   "display_name": "Python 3",
   "language": "python",
   "name": "python3"
  },
  "language_info": {
   "codemirror_mode": {
    "name": "ipython",
    "version": 3
   },
   "file_extension": ".py",
   "mimetype": "text/x-python",
   "name": "python",
   "nbconvert_exporter": "python",
   "pygments_lexer": "ipython3",
   "version": "3.6.6"
  }
 },
 "nbformat": 4,
 "nbformat_minor": 2
}
